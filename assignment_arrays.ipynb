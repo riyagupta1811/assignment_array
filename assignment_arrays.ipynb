{
 "cells": [
  {
   "cell_type": "code",
   "execution_count": null,
   "id": "ecc95968-d39c-4878-9e04-85b456e8818e",
   "metadata": {},
   "outputs": [],
   "source": [
    "# question 1"
   ]
  },
  {
   "cell_type": "code",
   "execution_count": 1,
   "id": "0a043104-c277-4709-a8bf-2685c1f86c97",
   "metadata": {},
   "outputs": [
    {
     "name": "stdout",
     "output_type": "stream",
     "text": [
      "True\n"
     ]
    }
   ],
   "source": [
    "# time complexity - O(n)\n",
    "# space complexity - O(n)\n",
    "\n",
    "def contains_duplicates(arr):\n",
    "    return len(arr) != len(set(arr))\n",
    "\n",
    "# Test case\n",
    "arr = [1, 2, 4, 2, 5, 9]\n",
    "print(contains_duplicates(arr))"
   ]
  },
  {
   "cell_type": "code",
   "execution_count": 3,
   "id": "5cd83db2-8146-4a1e-becf-0b24317071bf",
   "metadata": {},
   "outputs": [],
   "source": [
    "#question2 "
   ]
  },
  {
   "cell_type": "code",
   "execution_count": 4,
   "id": "8f2e90cc-d9e7-4732-ad71-8b2449f300dc",
   "metadata": {},
   "outputs": [
    {
     "name": "stdout",
     "output_type": "stream",
     "text": [
      "[5, 6, 7, 1, 2, 3, 4]\n"
     ]
    }
   ],
   "source": [
    "# time complexity - O(n)\n",
    "# space complexity - O(n)\n",
    "\n",
    "def rotate_array(arr, k):\n",
    "    k %= len(arr)  # Handle cases where k is greater than the array length\n",
    "    return arr[-k:] + arr[:-k]\n",
    "\n",
    "# Test case\n",
    "arr = [1, 2, 3, 4, 5, 6, 7]\n",
    "k = 3\n",
    "print(rotate_array(arr, k)) "
   ]
  },
  {
   "cell_type": "code",
   "execution_count": null,
   "id": "f7024212-b3aa-4237-a22e-9b404a15d38a",
   "metadata": {},
   "outputs": [],
   "source": [
    "#question 3"
   ]
  },
  {
   "cell_type": "code",
   "execution_count": 2,
   "id": "255b294e-fcba-4306-ba8f-ad916a7e6977",
   "metadata": {},
   "outputs": [
    {
     "name": "stdout",
     "output_type": "stream",
     "text": [
      "[12, 9, 7, 5, 4, 2]\n"
     ]
    }
   ],
   "source": [
    "# time complexity - O(n)\n",
    "# space complexity - O(1)\n",
    "\n",
    "def reverse_array(arr):\n",
    "    left, right = 0, len(arr) - 1\n",
    "    while left < right:\n",
    "        arr[left], arr[right] = arr[right], arr[left]\n",
    "        left += 1\n",
    "        right -= 1\n",
    "    return arr\n",
    "\n",
    "# Test case\n",
    "arr = [2, 4, 5, 7, 9, 12]\n",
    "print(reverse_array(arr)) "
   ]
  },
  {
   "cell_type": "code",
   "execution_count": null,
   "id": "e7a95583-1369-43e5-b238-037410081c4a",
   "metadata": {},
   "outputs": [],
   "source": [
    "#question 4"
   ]
  },
  {
   "cell_type": "code",
   "execution_count": 5,
   "id": "7577a7d5-6e10-474a-a839-4a09eb51883e",
   "metadata": {},
   "outputs": [
    {
     "name": "stdout",
     "output_type": "stream",
     "text": [
      "20\n"
     ]
    }
   ],
   "source": [
    "# time complexity - O(n)\n",
    "# space complexity - O(1)\n",
    "\n",
    "def find_maximum(arr):\n",
    "    maximum = arr[0]  # Initialize with the first element\n",
    "    for num in arr:\n",
    "        if num > maximum:\n",
    "            maximum = num  # Update maximum if a larger element is found\n",
    "    return maximum\n",
    "\n",
    "# Test case\n",
    "arr = [10, 5, 20, 8, 15]\n",
    "print(find_maximum(arr))"
   ]
  },
  {
   "cell_type": "code",
   "execution_count": null,
   "id": "21a630d6-1ada-4451-96f2-2ded5a3687c5",
   "metadata": {},
   "outputs": [],
   "source": [
    "#question 5"
   ]
  },
  {
   "cell_type": "code",
   "execution_count": 6,
   "id": "6838b67f-8471-4a8d-89ed-02013383555b",
   "metadata": {},
   "outputs": [
    {
     "name": "stdout",
     "output_type": "stream",
     "text": [
      "[1, 2, 3, 4, 5]\n"
     ]
    }
   ],
   "source": [
    "# time complexity - O(n)\n",
    "# space complexity - O(1)\n",
    "\n",
    "def remove_duplicates(arr):\n",
    "    if not arr:\n",
    "        return arr  # If the array is empty, return it\n",
    "    \n",
    "    # Initialize the index for the position of the next unique element\n",
    "    unique_index = 0\n",
    "\n",
    "    for i in range(1, len(arr)):\n",
    "        if arr[i] != arr[unique_index]:\n",
    "            unique_index += 1  # Move the unique index forward\n",
    "            arr[unique_index] = arr[i]  # Update the array with the new unique value\n",
    "    \n",
    "    # Return the array up to the unique elements\n",
    "    return arr[:unique_index + 1]\n",
    "\n",
    "# Test case\n",
    "arr = [1, 1, 2, 2, 2, 3, 3, 4, 4, 4, 5, 5]\n",
    "print(remove_duplicates(arr)) \n"
   ]
  }
 ],
 "metadata": {
  "kernelspec": {
   "display_name": "Python 3 (ipykernel)",
   "language": "python",
   "name": "python3"
  },
  "language_info": {
   "codemirror_mode": {
    "name": "ipython",
    "version": 3
   },
   "file_extension": ".py",
   "mimetype": "text/x-python",
   "name": "python",
   "nbconvert_exporter": "python",
   "pygments_lexer": "ipython3",
   "version": "3.12.1"
  }
 },
 "nbformat": 4,
 "nbformat_minor": 5
}
